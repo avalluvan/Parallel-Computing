{
 "cells": [
  {
   "cell_type": "markdown",
   "id": "e09986bd-8491-4806-be04-b2df13496b97",
   "metadata": {},
   "source": [
    "# Unbinned RL deconvolution"
   ]
  },
  {
   "cell_type": "markdown",
   "id": "e9418553-d304-43d1-a810-c0e0cbbad5df",
   "metadata": {},
   "source": [
    "## Intro"
   ]
  },
  {
   "cell_type": "markdown",
   "id": "f765a981-10f2-4b39-bb34-73ce2cbf61c3",
   "metadata": {},
   "source": [
    "Toy example of an unbnined Richardson-Lucy deconvolution.\n",
    "\n",
    "Section \"coordinates\" has an explanation about a different parametriztion of the response for describe the CDS. This is a way to decouple the binning of the response with the binning of the data. It should work also for a binned analysis, but I think it's only efficient in the case of the unbinned.\n",
    "\n",
    "Section \"Simulations and Response generator\" described how the response is constructed. A lot of this will be replaced by MEGAlib. I used some simple functions here to demostrate the method, but the algorith does not depend on the functions being simple nor analytic.\n",
    "\n",
    "Section \"Richardson-Lucy deconvolution\" is the meat of this notebook. There is an explanation there abou moving from a binned to an unbinned analysis. It also has a way to fit the bkg that I think will be an improvement also for the binned case.\n",
    "\n",
    "Finally, the \"Analysis\" section run an event-by-event simulation and reconstructs the image.\n",
    "\n",
    "The whole notebook takes 2-3 min to run"
   ]
  },
  {
   "cell_type": "markdown",
   "id": "dcb4e6d4-6d21-47a8-96be-3b092378a581",
   "metadata": {},
   "source": [
    "## Imports"
   ]
  },
  {
   "cell_type": "code",
   "execution_count": 1,
   "id": "5dfa4bff-0025-4f64-bffe-a074719e6e6b",
   "metadata": {},
   "outputs": [],
   "source": [
    "from histpy import Axis, HealpixAxis, Axes, Histogram\n",
    "from astropy.coordinates import SkyCoord\n",
    "import astropy.units as u\n",
    "from scoords import SpacecraftFrame\n",
    "from scipy.stats.sampling import TransformedDensityRejection, SimpleRatioUniforms, NumericalInverseHermite, NumericalInversePolynomial\n",
    "import matplotlib.pyplot as plt\n",
    "\n",
    "from scipy.stats import norm, lognorm, truncnorm, vonmises\n",
    "import numpy as np\n",
    "\n",
    "from scipy.special import roots_legendre\n",
    "\n",
    "from mhealpy import HealpixMap\n",
    "from astropy.coordinates import concatenate as concatenate_skycoords\n",
    "\n",
    "from scipy.integrate import quad, fixed_quad\n",
    "\n",
    "from scipy.special import erf, erfi\n",
    "\n",
    "from scipy.stats import poisson, expon, chi2\n",
    "\n",
    "import astropy\n",
    "from astropy.coordinates import concatenate as skycoord_concatenate\n",
    "\n",
    "from matplotlib.colors import LogNorm\n",
    "from mhealpy import HealpixBase"
   ]
  },
  {
   "cell_type": "markdown",
   "id": "58b87052-f911-4ad8-b129-e3e555155136",
   "metadata": {},
   "source": [
    "## Coordinates"
   ]
  },
  {
   "cell_type": "markdown",
   "id": "89bbd456-930d-4beb-b312-2d03cccfba58",
   "metadata": {},
   "source": [
    "The data is composed of a list of event, each with the regular CDS space information (phi, psichi). \n",
    "\n",
    "For simplicity, all the events have the same energy in this example. We also assume for simplicity that the SC orientation is fixed. Note that an unbinned analysis can handle both, it's just a simplification.\n",
    "\n",
    "For the response, we perform a coordinate transformation in order to facilitate the response interpolation. This decouples the binning of the response with the binning of the data, and reduces the number of bins.\n",
    "\n",
    "Instead of binning the response in (lonlat, phi, psichi), we bin it in (lonlat, phi, arm, az):\n",
    "- lonlat: The true location of the source\n",
    "- phi: the polar scattering angle\n",
    "- psichi: direction of the scattered gamma ray\n",
    "- arm: the angular distance between psichi and the closest reconstructed position to the Compton cone. Note that arm is limited toi the range [-phi, pi-phi]\n",
    "- az: the azimuthal scattering angle\n",
    "\n",
    "You can go back and forth between psichi, and (arm,az) with the following functions below. Note that you can only do this for the response, not the data, since for the data you don't know the true source location."
   ]
  },
  {
   "cell_type": "code",
   "execution_count": 2,
   "id": "b11d5436-8def-4dfe-b352-2aa37b78e9e7",
   "metadata": {},
   "outputs": [],
   "source": [
    "def phiaz_to_psichi(skycoord, phi, az):\n",
    "    \"\"\"\n",
    "    Parameters\n",
    "    ----------\n",
    "    skycoord: SkyCoord\n",
    "        True location of the source --i.e. lonlat\n",
    "    phi: array\n",
    "        Polar scattering angle (rad)\n",
    "    az: array\n",
    "        Azimuthal scattering angle (rad). Clock-wise with respect to the vector return by get_pol_unit_vec() below\n",
    "    \n",
    "    Returns\n",
    "    -------\n",
    "    psichi: SkyCoord\n",
    "        Direction of the scattered gamma ray\n",
    "    \"\"\"\n",
    "    \n",
    "    \n",
    "    # Transform phi,az to psi,chi\n",
    "    x,y,z = skycoord.cartesian.xyz\n",
    "    \n",
    "    # Reference vector for polarization\n",
    "    px,py = get_pol_unit_vec(x,y,z)\n",
    "    \n",
    "    px = px.transpose()\n",
    "    py = py.transpose()    \n",
    "        \n",
    "    psichi_xyz = (np.sin(phi[:,None]) * (px * np.cos(az[:,None]) + \n",
    "                                         py * np.sin(az[:,None])) + \n",
    "                  skycoord.cartesian.xyz * np.cos(phi[:,None]))\n",
    "    \n",
    "    psichi = SkyCoord(psichi_xyz,\n",
    "                      representation_type = 'cartesian',\n",
    "                      frame = SpacecraftFrame())\n",
    "    psichi.representation_type = 'unitspherical'\n",
    "    \n",
    "    return psichi\n",
    "\n",
    "def psichi_to_phiaz(coord, psichi):\n",
    "    \"\"\"\n",
    "    Parameters\n",
    "    ----------\n",
    "    coord: SkyCoord\n",
    "        True location of the source --i.e. lonlat\n",
    "    psichi: SkyCoord\n",
    "        Direction of the scattered gamma ray\n",
    "    \n",
    "    Returns\n",
    "    -------\n",
    "    phi: array\n",
    "        Polar scattering angle (rad)\n",
    "    az: array\n",
    "        Azimuthal scattering angle (rad). Clock-wise with respect to the vector return by get_pol_unit_vec() below.\n",
    "    \"\"\"\n",
    "    \n",
    "    psichi_pvec = psichi.cartesian.xyz[:,None,:] - coord.cartesian.xyz[:,:,None]\n",
    "    \n",
    "    px,py = get_pol_unit_vec(*coord.cartesian.xyz)\n",
    "    \n",
    "    px = px[:,:,None]\n",
    "    py = py[:,:,None]\n",
    "    \n",
    "    #psichi_px = np.tensordot(px, psichi_pvec, axes = ([0],[0]))\n",
    "    #psichi_py = np.tensordot(py, psichi_pvec, axes = ([0],[0]))\n",
    "    # There should be a better way to do the dotprod along axis=0. I'll figure it out someday\n",
    "    psichi_px = np.sum(px*psichi_pvec, axis = 0)\n",
    "    psichi_py = np.sum(py*psichi_pvec, axis = 0)\n",
    "    \n",
    "    az = np.arctan2(psichi_py, psichi_px)\n",
    "    \n",
    "    phi = coord[:,None].separation(psichi[None,:]).rad\n",
    "    \n",
    "    return phi,az.to_value(u.rad)\n",
    "\n",
    "def get_pol_unit_vec(x,y,z):\n",
    "    \"\"\"\n",
    "    Compute the reference plane for the azimuthal polar angle.\n",
    "\n",
    "    See https://ucbssl.slack.com/archives/C02TWC7U4NL/p1678987695343059\n",
    "\n",
    "    The (x,y,z) direction is normal to he output plan, and the px-axis is chosen to minimize the singularities.\n",
    "\n",
    "    Parameters\n",
    "    ----------\n",
    "    x,y,z: arrays\n",
    "        Cartesian coordinates of the normalized directions\n",
    "    \n",
    "    Return\n",
    "    ------\n",
    "    px,py: arrays\n",
    "        Normalized vector defining a plane normal to (x,y,z). Size (3, N), where N is the number of coordinates\n",
    "    \"\"\"\n",
    "    \n",
    "    px = np.array([((1+z) - (x**2-y**2)/(1+z))/2, -x*y/(1+z), -x])\n",
    "    py = np.array([-x*y/(1+z), 1 - y**2/(1+z), -y])\n",
    "\n",
    "    return px, py"
   ]
  },
  {
   "cell_type": "markdown",
   "id": "0aeb823d-37ff-43c0-8fdd-2faf12c9130d",
   "metadata": {},
   "source": [
    "## Simulations and response generation (MEGAlib replacement)"
   ]
  },
  {
   "cell_type": "markdown",
   "id": "504bc5e1-577f-4aca-94f2-efe4cd580e6b",
   "metadata": {},
   "source": [
    "In the real case, this section would be replaced by MEGAlib, so we can include all detector effects."
   ]
  },
  {
   "cell_type": "code",
   "execution_count": 3,
   "id": "521c5ee1-dfe4-4f44-af6c-66a99f6ff895",
   "metadata": {},
   "outputs": [],
   "source": [
    "angres = np.deg2rad(3) # Angular resolution\n",
    "peak_aeff = 16**2   # On-axis effective area\n",
    "Ei = 511 # Simulated energy"
   ]
  },
  {
   "cell_type": "markdown",
   "id": "b6509839-d1ed-4451-8975-eb0173f8a367",
   "metadata": {},
   "source": [
    "### Signal (gammas) simulations"
   ]
  },
  {
   "cell_type": "markdown",
   "id": "f22fdfba-a3bd-4b7a-a8d3-44337e7799fd",
   "metadata": {},
   "source": [
    "#### Event generator"
   ]
  },
  {
   "cell_type": "markdown",
   "id": "9dfd311c-caab-444f-90c7-23b850d7013c",
   "metadata": {},
   "source": [
    "Based on analytics distributions in az, phi and arm defined below."
   ]
  },
  {
   "cell_type": "code",
   "execution_count": 4,
   "id": "ba6dc3e7-29cb-41ba-937f-2a4c2b5cd393",
   "metadata": {},
   "outputs": [],
   "source": [
    "def random_event(skycoord, nevents):\n",
    "    \"\"\"\n",
    "    \n",
    "    \"\"\"\n",
    "    \n",
    "    az = Az_dist().rvs(nevents)\n",
    "\n",
    "    phi = Phi_dist(Ei).rvs(nevents)\n",
    "\n",
    "    arm = Arm_dist(phi).rvs()\n",
    "    \n",
    "    # Transform arm,az to psi,chi\n",
    "    psichi = phiaz_to_psichi(skycoord, phi + arm, az)\n",
    "    \n",
    "    return phi, psichi\n",
    "\n",
    "class Az_dist:\n",
    "\n",
    "    def pdf(self, az):\n",
    "    \n",
    "        return 1/(2*np.pi)\n",
    "\n",
    "    def cdf(self, az):\n",
    "\n",
    "        return az/(2*np.pi)\n",
    "\n",
    "    def rvs(self, size = None):\n",
    "\n",
    "        return np.random.uniform(0, 2*np.pi, size = size)\n",
    "\n",
    "class Phi_dist:\n",
    "    def __init__(self, Ei):\n",
    "        self._Ei = np.array(Ei)/511\n",
    "    \n",
    "    def pdf(self, phi):\n",
    "        return self._Ei * np.sin(phi) / (1+self._Ei*(1-np.cos(phi))) / np.log(1+2*self._Ei)\n",
    "        \n",
    "    def cdf(self, phi):\n",
    "        return np.log(1 + self._Ei*(1-np.cos(phi))) / np.log(1+2*self._Ei)\n",
    "        \n",
    "        return cdf_phi(phi, self._Ei)\n",
    "\n",
    "    def _rvs(self, Ei, size = None):\n",
    "        return SimpleRatioUniforms(self.__class__(Ei*511),\n",
    "                                   mode = np.arctan(np.sqrt(1+2*(Ei))/(Ei)),\n",
    "                                   domain = (0,np.pi)).rvs(size)\n",
    "        \n",
    "    def rvs(self, size = None):\n",
    "        if np.isscalar(self._Ei):\n",
    "            return self._rvs(self._Ei, size)\n",
    "        else:\n",
    "            return np.array([self._rvs(e, size) for e in self._Ei])\n",
    "\n",
    "class Arm_dist:\n",
    "\n",
    "    def __init__(self, phi):\n",
    "        self._phi = np.array(phi)\n",
    "\n",
    "        # normalized such that int_0^pi pdf(arm) darm = 1  (already includes sin(phi+arm))\n",
    "        \n",
    "        #Integrate[PDF[TruncatedDistribution[{0,\\[Pi]},NormalDistribution [\\[Phi],\\[Sigma]]], x]Sin[x],{x,0,\\[Pi]}]//Re//FullSimplify\n",
    "        #Mathematica couldn't get only the real part analytically\n",
    "        self._norm = np.real(\n",
    "            np.exp(-(angres**2/2)-1j *phi) * \n",
    "            (1j *erf((np.pi+1j *angres**2-phi)/(np.sqrt(2) * angres))+\n",
    "             np.exp(2j *phi) *(erfi((angres**2-1j *phi)/(np.sqrt(2) *angres))-\n",
    "                              erfi((1j *np.pi+angres**2-1j *phi)/(np.sqrt(2) *angres)))+\n",
    "             erfi((angres**2+1j *phi)/(np.sqrt(2) *angres)))\n",
    "                /(2 *(erf(phi/(np.sqrt(2) *angres))-erf((-np.pi+phi)/(np.sqrt(2) *angres)))))\n",
    "        \n",
    "    \n",
    "    def pdf(self, arm):\n",
    "        phi = self._phi # Convenience\n",
    "        \n",
    "        return truncnorm.pdf(arm, -phi/angres, (np.pi-phi)/angres, 0, angres) * np.sin(phi+arm) / self._norm\n",
    "\n",
    "    def cdf(self, arm):\n",
    "\n",
    "        if np.isscalar(arm) and np.isscalar(self._phi):\n",
    "            return quad(self.pdf, -self._phi, arm)[0]\n",
    "        \n",
    "        if np.isscalar(self._phi):\n",
    "            return np.array([self.cdf(a) for a in arm])\n",
    "        else:\n",
    "            return np.array([self.__class__(p).cdf(arm) for p in self._phi])\n",
    "        \n",
    "    def _rvs(self, phi, size = None):\n",
    "\n",
    "        return SimpleRatioUniforms(self.__class__(phi), mode = 0, domain = (-phi,np.pi-phi)).rvs(size)\n",
    "\n",
    "    def rvs(self, size = None):\n",
    "        if np.isscalar(self._phi):\n",
    "            return self._rvs(self._phi, size)\n",
    "        else:\n",
    "            return np.array([self._rvs(p, size) for p in self._phi])"
   ]
  },
  {
   "cell_type": "markdown",
   "id": "dda89003-b273-4a68-bd47-4a96fdad6b6f",
   "metadata": {},
   "source": [
    "#### Response (analytic)"
   ]
  },
  {
   "cell_type": "markdown",
   "id": "585ebb32-0199-47dd-bf30-db2fb983f1f9",
   "metadata": {},
   "source": [
    "Differential response"
   ]
  },
  {
   "cell_type": "code",
   "execution_count": 5,
   "id": "2a87788c-b777-4ebd-81bc-deacb3bac90b",
   "metadata": {},
   "outputs": [],
   "source": [
    "def Aeff(coord):\n",
    "    \n",
    "    if coord.shape == ():\n",
    "        coord = coord[None]\n",
    "    \n",
    "    lon,lat = coord.lon.rad, coord.lat.rad\n",
    "    \n",
    "    aeff = peak_aeff * np.cos(.5*(np.pi/2-lat))\n",
    "    \n",
    "    return aeff\n",
    "\n",
    "def prob_phi_arm_az(coord, phi, arm, az):\n",
    "    \"\"\"\n",
    "    phi,arm,az must have shape (coord.size, N)\n",
    "    \"\"\"\n",
    "\n",
    "    if coord.size != phi.shape[0]:\n",
    "        raise ValueError(\"phi,arm,az must have shape (coord.size, N)\")\n",
    "    \n",
    "    # coord independent for not\n",
    "    # np.sin(phi+arm)  account for solid angle area\n",
    "    return (Arm_dist(phi).pdf(arm)/ np.sin(phi+arm)) * Az_dist().pdf(az) * Phi_dist(Ei).pdf(phi) "
   ]
  },
  {
   "cell_type": "markdown",
   "id": "86367d61-9a14-40e7-986f-84606997a9da",
   "metadata": {},
   "source": [
    "#### Response (discretized)"
   ]
  },
  {
   "cell_type": "markdown",
   "id": "d42b51df-10db-4d57-8885-388f979a6d84",
   "metadata": {},
   "source": [
    "Here we discretize the function above. Note that the arm axis binning was chosen such that it is more finely binned around the Compton cone. This is another advantage of this parametrization.\n",
    "\n",
    "In reality, from MEGAlib we won't get directly the diffeerential response. We will get the integrated response, and need to divide it by the phase space of each bin. See below."
   ]
  },
  {
   "cell_type": "code",
   "execution_count": 6,
   "id": "a574b652-014b-4d21-b2dc-f62ecc300535",
   "metadata": {},
   "outputs": [],
   "source": [
    "lonlat_axis = HealpixAxis(nside = 8, coordsys = SpacecraftFrame())\n",
    "phi_axis = Axis(np.linspace(0,np.pi,18+1))\n",
    "arm_axis = Axis(np.concatenate((np.linspace(-np.pi, -3*angres, 12+1)[:-1], \n",
    "                                np.linspace(-3*angres, 3*angres, 13+1), \n",
    "                                np.linspace(3*angres, np.pi, 12+1)[1:])))\n",
    "az_axis = Axis(np.linspace(-np.pi,np.pi,36+1))\n",
    "\n",
    "lon_centers,lat_centers = lonlat_axis.pix2ang(range(lonlat_axis.npix), lonlat = True)\n",
    "\n",
    "lon_centers, phi_centers, arm_centers, az_centers = np.meshgrid(lon_centers, \n",
    "                                                        phi_axis.centers, \n",
    "                                                        arm_axis.centers, \n",
    "                                                        az_axis.centers, \n",
    "                                                        indexing = 'ij')\n",
    "\n",
    "lat_centers = np.broadcast_to(lat_centers[:,None,None,None], lon_centers.shape)\n",
    "\n",
    "lonlat_centers = SkyCoord(lon = lon_centers*u.deg, lat = lat_centers*u.deg, frame = SpacecraftFrame())\n",
    "\n",
    "Aeff_matrix = Histogram(lonlat_axis, \n",
    "                        contents = Aeff(lonlat_axis.pix2skycoord(range(lonlat_axis.npix))))\n",
    "\n",
    "prob_phi_arm_az_matrix = Histogram(Axes([lonlat_axis, phi_axis, arm_axis, az_axis]), \n",
    "                            contents = (Az_dist().pdf(az_centers) / np.sin(phi_centers+arm_centers)) * Phi_dist(Ei).pdf(phi_centers) * Arm_dist(phi_centers).pdf(arm_centers))"
   ]
  },
  {
   "cell_type": "markdown",
   "id": "ba0679e7-5ffc-4581-b90f-c218c3e2a617",
   "metadata": {},
   "source": [
    "#### Phase space"
   ]
  },
  {
   "cell_type": "code",
   "execution_count": 7,
   "id": "25453ebd-466e-4f7e-8761-ff1fbe5eb024",
   "metadata": {},
   "outputs": [],
   "source": [
    "def phi_arm_az_phase_space(phi1, phi2, arm1, arm2, az1, az2):\n",
    "    \"\"\"\n",
    "    Integrate phase space, accounting for the fact that the phi+arm range is limited to [0,pi]\n",
    "    \"\"\"\n",
    "    \n",
    "    phi1, phi2, arm1, arm2, az1, az2 = np.broadcast_arrays(phi1, phi2, arm1, arm2, az1, az2)\n",
    "\n",
    "    # Handle cases in between the physical boundaries\n",
    "    # Integrate excluding unphysical corners\n",
    "    # Remove unphysical rectangles\n",
    "    arm1 = np.choose((arm1 < -phi2)        & (-phi2 < arm2),     [arm1, -phi2])\n",
    "    arm2 = np.choose((arm1 < np.pi - phi1) & (np.pi-phi1 < arm2), [arm2, np.pi - phi1])    \n",
    "\n",
    "    phi1 = np.choose((phi1 < -arm2)        & (-arm2 < phi2),     [phi1, -arm2])\n",
    "    phi2 = np.choose((phi1 < np.pi - arm1) & (np.pi-arm1 < phi2), [phi2, np.pi - arm1])\n",
    "    \n",
    "    integral_rect = (az2-az1) * (-np.sin(arm1+phi1)+np.sin(arm2+phi1)+np.sin(arm1+phi2)-np.sin(arm2+phi2))\n",
    "\n",
    "    # Remove unphysical corners (triangles or trapezoids)\n",
    "    # Note the (phi1 + arm1) and (phi2 + arm2) masks in front\n",
    "\n",
    "    # Lower left corner (low phi, low arm)\n",
    "    # Integrate[Sin[phi+arm],{phi,phi1,phi2},{arm,arm1, -phi}]//FullSimplify\n",
    "    phil = np.maximum(-arm2, phi1)\n",
    "    phih = np.minimum(-arm1, phi2)\n",
    "    unphys_lowerleft_integral = -phih+phil+np.sin(arm1+phih)-np.sin(arm1+phil)\n",
    "    unphys_lowerleft_integral *= (phil + arm1 < 0)\n",
    "    integral = integral_rect - (az2-az1) * unphys_lowerleft_integral\n",
    "\n",
    "    # Upper right corner (high phi, high arm)\n",
    "    # Integrate[Sin[phi+arm],{phi,phi1,phi2}, {arm, \\[Pi]-phi, arm2}]//FullSimplify\n",
    "    phil = np.maximum(np.pi - arm2, phi1)\n",
    "    phih = np.minimum(np.pi - arm1, phi2)\n",
    "    unphys_upperright_integral = phil-phih+np.sin(arm2+phil)-np.sin(arm2+phih)\n",
    "    unphys_upperright_integral *= (phih + arm2 > np.pi)\n",
    "    integral -= (az2-az1) * unphys_upperright_integral\n",
    "\n",
    "    # Handle fully physical or fully unphysical\n",
    "    fully_phys = (phi1 + arm1 >= 0) & (phi2 + arm2 <= np.pi)\n",
    "    fully_unphys = (phi2 + arm2 <= 0) | (phi1 + arm1 >= np.pi)\n",
    "\n",
    "    # Mathematica: Integrate[Sin[phi+arm], {phi,phi1,phi2} , {arm,arm1,arm2}]//FullSimplify\n",
    "    integral_full = (az2-az1) * (-np.sin(arm1+phi1)+np.sin(arm2+phi1)+np.sin(arm1+phi2)-np.sin(arm2+phi2))\n",
    "    \n",
    "    if integral.ndim == 0:\n",
    "        if fully_phys:\n",
    "            return integral\n",
    "        if fully_unphys:\n",
    "            return 0\n",
    "    else:\n",
    "        integral[fully_phys] = integral_full[fully_phys]\n",
    "        integral[fully_unphys] = 0\n",
    "    \n",
    "    return integral"
   ]
  },
  {
   "cell_type": "markdown",
   "id": "1fb45903-df7b-41aa-a033-cfbdf0882c02",
   "metadata": {},
   "source": [
    "This is how the phase space looks"
   ]
  },
  {
   "cell_type": "code",
   "execution_count": 8,
   "id": "d30e0d8f-8962-4e8a-95a5-e339e7dde185",
   "metadata": {},
   "outputs": [
    {
     "name": "stderr",
     "output_type": "stream",
     "text": [
      "/Users/imartin5/burstcube/software/histpy/histpy/histogram.py:1301: RuntimeWarning: invalid value encountered in divide\n",
      "  self._contents = operation(self.full_contents, other)\n"
     ]
    },
    {
     "data": {
      "text/plain": [
       "6.283185307179586"
      ]
     },
     "execution_count": 8,
     "metadata": {},
     "output_type": "execute_result"
    },
    {
     "data": {
      "image/png": "[encoded data removed]",
      "text/plain": [
       "<Figure size 640x480 with 2 Axes>"
      ]
     },
     "metadata": {},
     "output_type": "display_data"
    }
   ],
   "source": [
    "phi_edges_mesh, arm_edges_mesh, az_edges_mesh = np.meshgrid(phi_axis.edges, arm_axis.edges, az_axis.edges, indexing = 'ij')\n",
    "\n",
    "phase_space_rsp = phi_arm_az_phase_space(phi_edges_mesh[:-1, :-1, :-1], \n",
    "                                  phi_edges_mesh[ 1:, :-1, :-1], \n",
    "                                  arm_edges_mesh[:-1, :-1, :-1],\n",
    "                                  arm_edges_mesh[:-1, 1:,  :-1:],\n",
    "                                   az_edges_mesh[:-1, :-1, :-1],\n",
    "                                   az_edges_mesh[:-1, :-1,  1:])\n",
    "\n",
    "h_ps = Histogram([arm_axis, phi_axis], contents = np.sum(phase_space_rsp, axis = 2).transpose())\n",
    "\n",
    "bin_area = ((phi_edges_mesh[1:,  :-1, :-1]  - phi_edges_mesh[:-1, :-1, :-1]) * \n",
    "            (arm_edges_mesh[:-1, 1:,  :-1:] - arm_edges_mesh[:-1, :-1, :-1]) * \n",
    "             (az_edges_mesh[:-1, :-1,  1:]  -  az_edges_mesh[:-1, :-1, :-1]))\n",
    "\n",
    "h_ps_diff = h_ps / np.sum(bin_area, axis = 2).transpose() # Phase space per bin area, for nicer visualization\n",
    "\n",
    "ax,plot = h_ps_diff.plot()\n",
    "\n",
    "x = np.linspace(-np.pi, np.pi, 100)\n",
    "ax.plot(x, -x)\n",
    "ax.plot(x, np.pi-x)\n",
    "\n",
    "ax.set_ylim(0,np.pi)\n",
    "\n",
    "# Should be 2*np.pi = 6.283185307179586 (az area = 2*pi, phi area = pi, and phi+arm (psichi radius) area = 2)\n",
    "np.sum(h_ps/2/np.pi)"
   ]
  },
  {
   "cell_type": "markdown",
   "id": "94e4b047-7dd2-46ee-84d3-29e8a62d9cba",
   "metadata": {},
   "source": [
    "int_prob_phi_arm_az_matrix is what you would obtain from MEGAlib, and you would need to _divide_ it by the phase space"
   ]
  },
  {
   "cell_type": "code",
   "execution_count": 9,
   "id": "74f771ce-a8ac-47d6-bd94-64ddab1ce334",
   "metadata": {},
   "outputs": [
    {
     "name": "stdout",
     "output_type": "stream",
     "text": [
      "0.9982617109507523 0.9982617109507523\n"
     ]
    }
   ],
   "source": [
    "\n",
    "\n",
    "\n",
    "# Normalized to 1 for each direction (i.e. each bin of the measured axes)\n",
    "int_prob_phi_arm_az_matrix = (prob_phi_arm_az_matrix * phase_space_rsp[None]).project(0).contents\n",
    "print(np.min(int_prob_phi_arm_az_matrix), np.max(int_prob_phi_arm_az_matrix))"
   ]
  },
  {
   "cell_type": "markdown",
   "id": "6300c905-13bf-45e8-af70-27150b49ef79",
   "metadata": {},
   "source": [
    "### Background simulations"
   ]
  },
  {
   "cell_type": "markdown",
   "id": "aadef3d9-3b6a-4840-9f5a-0626319383c3",
   "metadata": {},
   "source": [
    "#### Bkg events generator"
   ]
  },
  {
   "cell_type": "code",
   "execution_count": 10,
   "id": "56e21dfa-3927-4020-abf6-c21a95a89384",
   "metadata": {},
   "outputs": [],
   "source": [
    "max_phi_bkg = 0.3  # Makes it inconsistent with any possible source. You can change it back to np.pi, but the bkg events end up being mimicked by a nunch of random small sources\n",
    "\n",
    "def random_bkg_event(nevents):\n",
    "    \n",
    "    # Isotropic in psichi\n",
    "    # Adjust representation to match random_event()\n",
    "    psichi = SkyCoord(np.random.uniform(-1, 1, size = (nevents, 3)), \n",
    "                      representation_type = 'cartesian', frame = SpacecraftFrame())\n",
    "    psichi = SkyCoord(psichi.represent_as('unitspherical'),\n",
    "                      representation_type = 'unitspherical',\n",
    "                      frame = SpacecraftFrame())\n",
    "    \n",
    "    # Flat in phi\n",
    "    phi = np.random.uniform(0, max_phi_bkg, nevents)\n",
    "    \n",
    "    return phi, psichi"
   ]
  },
  {
   "cell_type": "markdown",
   "id": "aa183d81-39b1-47de-994b-66ec6a1fba2d",
   "metadata": {},
   "source": [
    "#### Bkg model (analytic)"
   ]
  },
  {
   "cell_type": "code",
   "execution_count": 11,
   "id": "2802388a-b880-43bb-a0c5-b0a972a8826c",
   "metadata": {},
   "outputs": [],
   "source": [
    "def bkg_dist(phi, psichi):\n",
    "    \"\"\"\n",
    "    Normalized to 1\n",
    "    \"\"\"\n",
    "    \n",
    "\n",
    "    phi = np.array(phi)\n",
    "    \n",
    "    prob = ((phi < max_phi_bkg) * (1/max_phi_bkg)  *      # Flat in phi \n",
    "            (1 / 4 / np.pi))  # Isotropic in psichi\n",
    "\n",
    "    return np.broadcast_to(prob, phi.shape)"
   ]
  },
  {
   "cell_type": "markdown",
   "id": "af6f3c8e-c17e-42c0-9b30-74e9b96c7099",
   "metadata": {},
   "source": [
    "#### Bkg model (discretized)"
   ]
  },
  {
   "cell_type": "markdown",
   "id": "4fe4a159-4eb1-4599-a1a9-74ff58c56166",
   "metadata": {},
   "source": [
    "Similar comment about the phase space."
   ]
  },
  {
   "cell_type": "code",
   "execution_count": 12,
   "id": "2133cf63-5f6b-417c-809a-5fcef4fd10d4",
   "metadata": {},
   "outputs": [],
   "source": [
    "phi_axis = Axis(np.linspace(0,np.pi,18+1))\n",
    "psichi_axis = HealpixAxis(nside = 8, coordsys = SpacecraftFrame())\n",
    "\n",
    "phi_centers, psichi_centers = np.meshgrid(phi_axis.centers, \n",
    "                                          psichi_axis.pix2skycoord(range(psichi_axis.npix)),\n",
    "                                           indexing = 'ij')\n",
    "\n",
    "\n",
    "\n",
    "bkg_model = Histogram([phi_axis, psichi_axis], contents = bkg_dist(phi_centers, psichi_centers))"
   ]
  },
  {
   "cell_type": "markdown",
   "id": "ecbc4670-1c6d-445c-92f1-0e421aeb1e58",
   "metadata": {},
   "source": [
    "#### Phase space"
   ]
  },
  {
   "cell_type": "code",
   "execution_count": 13,
   "id": "ec89e851-ba70-4d3e-afdb-cbf7d2720294",
   "metadata": {},
   "outputs": [
    {
     "name": "stdout",
     "output_type": "stream",
     "text": [
      "39.47841760435744\n",
      "1.1635528346628867\n"
     ]
    }
   ],
   "source": [
    "phi_area_mesh, psichi_area_mesh = np.meshgrid(phi_axis.widths, \n",
    "                                              psichi_axis.pixarea(range(psichi_axis.npix)).to_value(u.sr), \n",
    "                                              indexing = 'ij')\n",
    "\n",
    "phase_space_bkg = phi_area_mesh * psichi_area_mesh\n",
    "\n",
    "# Should be np.pi*4*np.pi = 39.47841760435743 (phi area = pi, psichi area = 4*pi)\n",
    "print(np.sum(phase_space_bkg))\n",
    "\n",
    "\n",
    "# Should be 1\n",
    "print(np.sum(bkg_model * phase_space_bkg))"
   ]
  },
  {
   "cell_type": "markdown",
   "id": "e9de2492-49c1-489d-bee4-88c5ebe7cb9e",
   "metadata": {},
   "source": [
    "## Richardson-Lucy deconvolution"
   ]
  },
  {
   "cell_type": "markdown",
   "id": "2117a001-3bf2-418d-b684-4f79d744d9e8",
   "metadata": {},
   "source": [
    "Notation \n",
    "- model^(t+1)_j = model^(t)_j coeff_j / sum_i response_ij\n",
    "- coeff_j = sum_i (d_i/expectation_i) response_ij\n",
    "- expectation_i = sum_j response_ij model_j\n",
    "\n",
    "d_i is the number of counts in the i-th data bin. Since we are\n",
    "doing an unbinned analysis, it can only be 1 or 0, so\n",
    "we end up summing over the events to compute coeff_j.\n",
    "\n",
    "In the unbinned case, the expectation need to be the _differential_\n",
    "expectation, that is, number of counts phase space in the CDS.\n",
    "Note that multiplying all expectation values by a constant does\n",
    "not affect the analysis, since it just increases the likelihood by a constant.\n",
    "\n",
    "For the normalization (sum_i response_ij), the integral needs to\n",
    "include the full data space, that's why we need Aeff in addition to prob_phi_arm_az.\n",
    "\n",
    "Note about the background:\n",
    "The RL algorithm is solving a linear set of equations R*x = d, where \n",
    "- e is the variables to solve for,\n",
    "- d is an array of observed data,\n",
    "- R is the response matrix.\n",
    "\n",
    "Since the expectation is just signal+bkg, which is also a linear combination,.\n",
    "instead of fitting the backgroun on every iteration, I just add the background\n",
    "parameter to x, and extend R with row corresponding to the background model. "
   ]
  },
  {
   "cell_type": "code",
   "execution_count": 14,
   "id": "cc301246-7376-47bc-9d3b-8ed032d20e81",
   "metadata": {},
   "outputs": [],
   "source": [
    "def rl(phi, psichi, \n",
    "       source_model, bkg_norm, \n",
    "       Aeff = None, prob_phi_arm_az = None, bkg_dist = None,\n",
    "       response = None, response_norm = None,\n",
    "       niter = 1):\n",
    "    \"\"\"\n",
    "    Provide either a pre-computed response or (Aeff, prob_phi_arm_az, bkg_dist)\n",
    "\n",
    "    Outputs: source_model, bkg_norm, response, response_norm\n",
    "    \"\"\"\n",
    "\n",
    "    # Precompute detector response for each event\n",
    "    if response is None:\n",
    "\n",
    "        if (Aeff is None or \n",
    "            prob_phi_arm_az is None or \n",
    "            bkg_dist is None):\n",
    "            raise ValueError(\"Provide either a pre-computed (response, response_norm) or (Aeff, prob_phi_arm_az, bkg_dist)\")\n",
    "        \n",
    "        print(\"Preparing event response matrix, takes about 1 min...\")\n",
    "        pix_centers = source_model.pix2skycoord(range(source_model.npix)) \n",
    "    \n",
    "        response_norm = np.append(Aeff(pix_centers), 1)\n",
    "    \n",
    "        prob_CDS_events = np.append(prob_phi_arm_az_to_CDS(pix_centers, phi, psichi, prob_phi_arm_az), \n",
    "                                    bkg_dist(phi, psichi)[None,:], axis = 0)\n",
    "    \n",
    "        response = response_norm[:, None] * prob_CDS_events\n",
    "\n",
    "    if response_norm is None:\n",
    "        raise ValueError(\"Provide either a pre-computed (response, response_norm) or (Aeff, prob_phi_arm_az, bkg_dist)\")\n",
    "    \n",
    "    # Prepare model matrix\n",
    "    model = np.append(source_model.data, bkg_norm)\n",
    "    \n",
    "    # RL iterations\n",
    "    \n",
    "    for t in range(niter):\n",
    "\n",
    "        expectation = np.dot(model, response)\n",
    "\n",
    "        coeff = np.sum(response / expectation[None,:], axis = 1)  \n",
    "\n",
    "        model *= coeff / response_norm\n",
    "\n",
    "        # Logging only\n",
    "        log_like = -phi.size + np.sum(np.log(expectation))\n",
    "        tot_expect = np.sum(response_norm * model)\n",
    "                \n",
    "        print(f\"Iteration: {t}  logLike = {log_like:.2f}  tot_expec = {tot_expect:.2f}/{phi.size}\\r\", end='')\n",
    "\n",
    "    if bkg_norm is not None:\n",
    "        return HealpixMap(base = source_model, data = model[:-1]), model[-1], response, response_norm\n",
    "    else:\n",
    "        return HealpixMap(base = source_model, data = model), None, response, response_norm\n",
    "\n",
    "def prob_phi_arm_az_to_CDS(coord, phi, psichi, prob_phi_arm_az):\n",
    "\n",
    "   # Convert psichi to az,arm\n",
    "    sep,az = psichi_to_phiaz(coord, psichi)\n",
    "    \n",
    "    # Broadcast\n",
    "    phi = np.broadcast_to(phi[None,:], sep.shape)\n",
    "\n",
    "    # Get difference (arm)\n",
    "    arm = sep - phi\n",
    "\n",
    "    return prob_phi_arm_az(coord, phi, arm, az)\n",
    "\n",
    "def log_like(phi, psichi, source_model, bkg_norm, response):\n",
    "    # Prepare model matrix\n",
    "    model = source_model.data\n",
    "    \n",
    "    if bkg_norm is not None:\n",
    "        model = np.append(model, bkg_norm)\n",
    "\n",
    "    expectation = np.dot(model, response)\n",
    "    \n",
    "    return -phi.size + np.sum(np.log(expectation))"
   ]
  },
  {
   "cell_type": "markdown",
   "id": "aaf12c59-2f52-4784-9841-1aef10329aee",
   "metadata": {},
   "source": [
    "## Analysis"
   ]
  },
  {
   "cell_type": "markdown",
   "id": "1d40d23a-4a09-42c8-b45e-146b9d8cb29d",
   "metadata": {},
   "source": [
    "### Generate random data"
   ]
  },
  {
   "cell_type": "code",
   "execution_count": 15,
   "id": "0d0d78c6-dc18-4a69-a88c-003fae8bcae3",
   "metadata": {},
   "outputs": [],
   "source": [
    "\n",
    "# Source 1\n",
    "flux1 = 1\n",
    "coord1 = SkyCoord(lon = 45*u.deg, lat = 45*u.deg, frame = SpacecraftFrame())\n",
    "nevents1 = np.random.poisson(flux1*Aeff(coord1).squeeze())\n",
    "phi1, psichi1 = random_event(coord1, nevents1)\n",
    "\n",
    "phi = phi1\n",
    "psichi = psichi1\n",
    "\n",
    "# Source 2\n",
    "flux2 = 3\n",
    "coord2 = SkyCoord(lon = -30*u.deg, lat = -30*u.deg, frame = SpacecraftFrame())\n",
    "nevents2 = np.random.poisson(flux2*Aeff(coord2).squeeze())\n",
    "phi2, psichi2 = random_event(coord2, nevents2)\n",
    "\n",
    "phi = np.concatenate((phi, phi2))\n",
    "psichi = skycoord_concatenate([psichi, psichi2])\n",
    "\n",
    "# Bkg \n",
    "nevents_bkg = 100\n",
    "phi_bkg, psichi_bkg = random_bkg_event(nevents_bkg)\n",
    "\n",
    "phi = np.concatenate((phi, phi_bkg))\n",
    "psichi = skycoord_concatenate([psichi, psichi_bkg])"
   ]
  },
  {
   "cell_type": "code",
   "execution_count": 16,
   "id": "40d5d6ea-7f96-4f17-855e-cfa73a1c5ae2",
   "metadata": {},
   "outputs": [
    {
     "name": "stderr",
     "output_type": "stream",
     "text": [
      "Failed to transform from 'spacecraftframe' to 'icrs'. Rasterizing in 'spacecraftframe' frame. ERROR: Spacecraft coordinates need attitude to transform from ICRS\n"
     ]
    },
    {
     "data": {
      "text/plain": [
       "(<AxesSubplot: xlabel='phi'>, <ErrorbarContainer object of 3 artists>)"
      ]
     },
     "execution_count": 16,
     "metadata": {},
     "output_type": "execute_result"
    },
    {
     "data": {
      "image/png": "[encoded data removed]",
      "text/plain": [
       "<Figure size 600x600 with 2 Axes>"
      ]
     },
     "metadata": {},
     "output_type": "display_data"
    },
    {
     "data": {
      "image/png": "[encoded data removed]",
      "text/plain": [
       "<Figure size 640x480 with 1 Axes>"
      ]
     },
     "metadata": {},
     "output_type": "display_data"
    }
   ],
   "source": [
    "# Bin only for plotting purposes\n",
    "\n",
    "m = Histogram([Axis(np.linspace(0,np.pi,45), label = 'phi'), \n",
    "                    HealpixAxis(nside = 32, coordsys = SpacecraftFrame(), label = 'psichi')])\n",
    "\n",
    "m.fill(phi, psichi)\n",
    "\n",
    "m.slice[3].project('psichi').plot()\n",
    "\n",
    "m.project('phi').plot()"
   ]
  },
  {
   "cell_type": "markdown",
   "id": "0598e9be-279f-4c3f-bbb4-73d785a78670",
   "metadata": {},
   "source": [
    "### Run RL"
   ]
  },
  {
   "cell_type": "markdown",
   "id": "33f1f164-8417-4348-b33f-d071693aecea",
   "metadata": {},
   "source": [
    "Initialize model.\n",
    "\n",
    "Note that the binning of the source model is decoupled from the binning of the response. I'm choosing something a few times smaller than the angular resolution"
   ]
  },
  {
   "cell_type": "code",
   "execution_count": 17,
   "id": "b06e2f01-5391-4963-9698-3871b163808c",
   "metadata": {},
   "outputs": [],
   "source": [
    "source_model = HealpixMap(nside = 64, coordsys = SpacecraftFrame())\n",
    "source_model[:] = 1\n",
    "bkg_norm = 1"
   ]
  },
  {
   "cell_type": "markdown",
   "id": "d8ca257b-901b-480e-8813-a7082f016627",
   "metadata": {},
   "source": [
    "Set the effective area, CDS differential probability and background model.\n",
    "\n",
    "The following block is just the 0th-order or linear interpolations of the matrices created above"
   ]
  },
  {
   "cell_type": "code",
   "execution_count": 18,
   "id": "d6a6676a-be4f-4985-a1f8-a2bc9d829a93",
   "metadata": {},
   "outputs": [],
   "source": [
    "Aeff_fun = lambda coord: Aeff_matrix.interp(coord)\n",
    "bkg_dist_fun = lambda phi, psichi: bkg_model[bkg_model.find_bin(phi, psichi)]\n",
    "prob_phi_arm_az_fun = lambda coord, phi, arm, az: prob_phi_arm_az_matrix[prob_phi_arm_az_matrix.find_bin(np.broadcast_to(coord[:,None], phi.shape), phi, arm, az)]"
   ]
  },
  {
   "cell_type": "markdown",
   "id": "8cc2d203-489d-4c8d-95be-a2f7363599be",
   "metadata": {},
   "source": [
    "This uses the exact functions (no discretization) used to generate the matrixes. It's somewhat faster but give consistent results"
   ]
  },
  {
   "cell_type": "code",
   "execution_count": 19,
   "id": "e6938571-e79b-4a32-bc65-bbe3b540e124",
   "metadata": {},
   "outputs": [],
   "source": [
    "# Aeff_fun = Aeff\n",
    "# prob_phi_arm_az_fun = prob_phi_arm_az\n",
    "# bkg_dist_fun = bkg_dist"
   ]
  },
  {
   "cell_type": "code",
   "execution_count": 20,
   "id": "edc75918-0403-436e-ba8d-315be1dac4da",
   "metadata": {},
   "outputs": [
    {
     "name": "stdout",
     "output_type": "stream",
     "text": [
      "Preparing event response matrix, takes about 1 min...\n",
      "Iteration: 49  logLike = 2770.06  tot_expec = 752.00/752\r"
     ]
    }
   ],
   "source": [
    "source_model, bkg_norm, response, response_norm = rl(phi, psichi,             # data\n",
    "                                                     source_model, bkg_norm,  # guess\n",
    "                                                     Aeff = Aeff_fun, prob_phi_arm_az = prob_phi_arm_az_fun, bkg_dist = bkg_dist_fun,   # response\n",
    "                                                     niter = 50)"
   ]
  },
  {
   "cell_type": "markdown",
   "id": "0b764ddd-8fbd-40a2-a71f-75c746ff2753",
   "metadata": {},
   "source": [
    "Run more iteration with pre-computed response\n",
    "You can run it a few times if the likelihood keep changing "
   ]
  },
  {
   "cell_type": "code",
   "execution_count": 21,
   "id": "7a5ca649-6b89-44a7-b474-4f8468a7842a",
   "metadata": {},
   "outputs": [
    {
     "name": "stdout",
     "output_type": "stream",
     "text": [
      "Iteration: 49  logLike = 2773.91  tot_expec = 752.00/752\r"
     ]
    }
   ],
   "source": [
    "source_model, bkg_norm, response, response_norm = rl(phi, psichi,             # data\n",
    "                                                     source_model, bkg_norm,  # guess\n",
    "                                                     response = response, response_norm = response_norm,  # response\n",
    "                                                     niter = 50)"
   ]
  },
  {
   "cell_type": "markdown",
   "id": "e8ffa20b-3df3-4950-ae94-6856e56e8119",
   "metadata": {},
   "source": [
    "Check the results:"
   ]
  },
  {
   "cell_type": "code",
   "execution_count": 22,
   "id": "3dbb509d-1a61-4eb3-b45b-2d2d4d13e61d",
   "metadata": {},
   "outputs": [
    {
     "name": "stderr",
     "output_type": "stream",
     "text": [
      "Failed to transform from 'spacecraftframe' to 'icrs'. Rasterizing in 'spacecraftframe' frame. ERROR: Spacecraft coordinates need attitude to transform from ICRS\n",
      "Failed to transform from 'spacecraftframe' to 'icrs'. Rasterizing in 'spacecraftframe' frame. ERROR: Spacecraft coordinates need attitude to transform from ICRS\n"
     ]
    },
    {
     "name": "stdout",
     "output_type": "stream",
     "text": [
      "Bkg norm = 98.54328126433809  nevents_bkg = 100\n",
      "Recovered flux source 1: 1.0483213677906265  Real flux source 1 = 1\n",
      "Recovered flux source 2: 3.1429562339164314  Real flux source 2 = 3\n"
     ]
    },
    {
     "data": {
      "image/png": "[encoded data removed]",
      "text/plain": [
       "<Figure size 2250x1500 with 4 Axes>"
      ]
     },
     "metadata": {},
     "output_type": "display_data"
    }
   ],
   "source": [
    "\n",
    "\n",
    "fig,ax = plt.subplots(1,2, subplot_kw = {'projection': 'mollview'}, figsize = [15,10], dpi = 150)\n",
    "\n",
    "source_model.plot(ax[0])\n",
    "\n",
    "source_model.plot(ax[1], norm = LogNorm(vmin = np.maximum(1e-10, np.max(source_model))/source_model.npix, # Arb 1e-10 flux in case it's all 0's\n",
    "                                        vmax = np.maximum(2e-10, np.max(source_model)), \n",
    "                                        clip = True))\n",
    "\n",
    "print(f\"Bkg norm = {bkg_norm}  nevents_bkg = {nevents_bkg}\")\n",
    "print(f\"Recovered flux source 1: {np.sum(source_model[source_model.query_disc(coord1, 3*angres)])}  Real flux source 1 = {flux1}\")\n",
    "print(f\"Recovered flux source 2: {np.sum(source_model[source_model.query_disc(coord2, 3*angres)])}  Real flux source 2 = {flux2}\")"
   ]
  }
 ],
 "metadata": {
  "kernelspec": {
   "display_name": "Python [conda env:cosi_nomegalib]",
   "language": "python",
   "name": "conda-env-cosi_nomegalib-py"
  },
  "language_info": {
   "codemirror_mode": {
    "name": "ipython",
    "version": 3
   },
   "file_extension": ".py",
   "mimetype": "text/x-python",
   "name": "python",
   "nbconvert_exporter": "python",
   "pygments_lexer": "ipython3",
   "version": "3.9.6"
  }
 },
 "nbformat": 4,
 "nbformat_minor": 5
}
