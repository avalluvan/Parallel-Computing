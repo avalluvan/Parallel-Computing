{
 "cells": [
  {
   "cell_type": "code",
   "execution_count": 1,
   "metadata": {},
   "outputs": [],
   "source": [
    "## Python essential libraries\n",
    "import numpy as np\n",
    "import h5py"
   ]
  },
  {
   "cell_type": "code",
   "execution_count": 2,
   "metadata": {},
   "outputs": [],
   "source": [
    "NUMROWS = NUMCOLS = 50"
   ]
  },
  {
   "cell_type": "code",
   "execution_count": 4,
   "metadata": {},
   "outputs": [
    {
     "data": {
      "text/plain": [
       "array([[1.  , 0.01, 0.  , ..., 0.  , 0.  , 0.  ],\n",
       "       [0.01, 1.  , 0.01, ..., 0.  , 0.  , 0.  ],\n",
       "       [0.  , 0.01, 1.  , ..., 0.  , 0.  , 0.  ],\n",
       "       ...,\n",
       "       [0.  , 0.  , 0.  , ..., 1.  , 0.01, 0.  ],\n",
       "       [0.  , 0.  , 0.  , ..., 0.01, 1.  , 0.01],\n",
       "       [0.  , 0.  , 0.  , ..., 0.  , 0.01, 1.  ]])"
      ]
     },
     "execution_count": 4,
     "metadata": {},
     "output_type": "execute_result"
    }
   ],
   "source": [
    "# R = 2. * np.eye(NUMROWS)\n",
    "diagonal_val = 1.\n",
    "R = diagonal_val * np.eye(NUMROWS)\n",
    "off_diagonal_val = 0.01\n",
    "b = off_diagonal_val * np.ones(NUMROWS - 1)\n",
    "R += np.diag(b, -1) + np.diag(b, 1)\n",
    "R"
   ]
  },
  {
   "cell_type": "code",
   "execution_count": 5,
   "metadata": {},
   "outputs": [
    {
     "name": "stdout",
     "output_type": "stream",
     "text": [
      "Closed example.h5\n"
     ]
    }
   ],
   "source": [
    "with h5py.File('example.h5', 'w') as hf:\n",
    "    hf.create_dataset(\"response_matrix\",  data=R, dtype=np.float64)\n",
    "    # float64 is equivalent to a c double\n",
    "    # float32 is equivalent to a c float\n",
    "print('Closed example.h5')"
   ]
  },
  {
   "cell_type": "code",
   "execution_count": 6,
   "metadata": {},
   "outputs": [
    {
     "name": "stdout",
     "output_type": "stream",
     "text": [
      "Closed example_axis0_summed.h5\n"
     ]
    }
   ],
   "source": [
    "with h5py.File('example_axis0_summed.h5', 'w') as hf:\n",
    "    hf.create_dataset(\"response_vector\",  data=np.sum(R, axis=0), dtype=np.float64)\n",
    "    # float64 is equivalent to a c double\n",
    "    # float32 is equivalent to a c float\n",
    "print('Closed example_axis0_summed.h5')"
   ]
  },
  {
   "cell_type": "code",
   "execution_count": 3,
   "metadata": {},
   "outputs": [
    {
     "name": "stdout",
     "output_type": "stream",
     "text": [
      "['response_matrix']\n"
     ]
    }
   ],
   "source": [
    "with h5py.File('example.h5', 'r') as hf:\n",
    "    print(list(hf.keys()))\n",
    "    data = hf['response_matrix'][:]"
   ]
  },
  {
   "cell_type": "code",
   "execution_count": 4,
   "metadata": {},
   "outputs": [
    {
     "data": {
      "text/plain": [
       "array([[1.  , 0.01, 0.  , ..., 0.  , 0.  , 0.  ],\n",
       "       [0.01, 1.  , 0.01, ..., 0.  , 0.  , 0.  ],\n",
       "       [0.  , 0.01, 1.  , ..., 0.  , 0.  , 0.  ],\n",
       "       ...,\n",
       "       [0.  , 0.  , 0.  , ..., 1.  , 0.01, 0.  ],\n",
       "       [0.  , 0.  , 0.  , ..., 0.01, 1.  , 0.01],\n",
       "       [0.  , 0.  , 0.  , ..., 0.  , 0.01, 1.  ]])"
      ]
     },
     "execution_count": 4,
     "metadata": {},
     "output_type": "execute_result"
    }
   ],
   "source": [
    "data"
   ]
  }
 ],
 "metadata": {
  "kernelspec": {
   "display_name": "paracomp",
   "language": "python",
   "name": "python3"
  },
  "language_info": {
   "codemirror_mode": {
    "name": "ipython",
    "version": 3
   },
   "file_extension": ".py",
   "mimetype": "text/x-python",
   "name": "python",
   "nbconvert_exporter": "python",
   "pygments_lexer": "ipython3",
   "version": "3.12.2"
  }
 },
 "nbformat": 4,
 "nbformat_minor": 2
}
